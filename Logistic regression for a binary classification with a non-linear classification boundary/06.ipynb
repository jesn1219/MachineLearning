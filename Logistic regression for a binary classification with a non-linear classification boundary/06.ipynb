{
 "cells": [
  {
   "cell_type": "code",
   "execution_count": 1,
   "metadata": {},
   "outputs": [],
   "source": [
    "# Writer : JESOON KANG, Dept. of Computer Science & Engineering in Chung-Ang University\n",
    "# Last-Modified Date : April 30,2020"
   ]
  },
  {
   "cell_type": "code",
   "execution_count": 2,
   "metadata": {},
   "outputs": [],
   "source": [
    "import matplotlib.pyplot as plt\n",
    "import math\n",
    "import numpy as np\n",
    "import random\n",
    "import torch\n",
    "from torch.utils.data import Dataset, DataLoader\n",
    "import torchvision.transforms as transforms\n",
    "import torchvision\n",
    "import os\n",
    "import time\n",
    "import datetime\n",
    "from random import *"
   ]
  },
  {
   "cell_type": "code",
   "execution_count": 3,
   "metadata": {},
   "outputs": [
    {
     "name": "stdout",
     "output_type": "stream",
     "text": [
      "Using device: cuda\n",
      "\n",
      "GeForce RTX 2060 SUPER\n",
      "Memory Usage:\n",
      "Allocated: 0.0 GB\n",
      "Cached:    0.0 GB\n"
     ]
    }
   ],
   "source": [
    "### Setting up Device\n",
    "device = torch.device('cuda' if torch.cuda.is_available() else 'cpu')\n",
    "# Below codes activates when want to use cpu\n",
    "#device = torch.device('cpu')\n",
    "print('Using device:', device)\n",
    "print()\n",
    "\n",
    "#Additional Info when using cuda\n",
    "if device.type == 'cuda':\n",
    "    print(torch.cuda.get_device_name(0))\n",
    "    print('Memory Usage:')\n",
    "    print('Allocated:', round(torch.cuda.memory_allocated(0)/1024**3,1), 'GB')\n",
    "    print('Cached:   ', round(torch.cuda.memory_cached(0)/1024**3,1), 'GB')"
   ]
  },
  {
   "cell_type": "code",
   "execution_count": 4,
   "metadata": {
    "scrolled": true
   },
   "outputs": [
    {
     "data": {
      "image/png": "[encoded data removed]",
      "text/plain": [
       "<Figure size 576x576 with 1 Axes>"
      ]
     },
     "metadata": {
      "needs_background": "light"
     },
     "output_type": "display_data"
    }
   ],
   "source": [
    "# Plot the training data\n",
    "import numpy as np\n",
    "import matplotlib.pyplot as plt\n",
    "\n",
    "data    = np.genfromtxt(\"data-nonlinear.txt\", delimiter=',')\n",
    "\n",
    "x       = data[:, 0]\n",
    "y       = data[:, 1]\n",
    "label   = data[:, 2]\n",
    "\n",
    "x_label0    = x[label == 0]\n",
    "y_label0    = y[label == 0]\n",
    "\n",
    "x_label1    = x[label == 1]\n",
    "y_label1    = y[label == 1]\n",
    "\n",
    "plt.figure(figsize=(8, 8))\n",
    "plt.scatter(x_label0, y_label0, alpha=0.9, c='b')\n",
    "plt.scatter(x_label1, y_label1, alpha=0.9, c='r')\n",
    "plt.show()"
   ]
  },
  {
   "cell_type": "code",
   "execution_count": 5,
   "metadata": {},
   "outputs": [],
   "source": [
    "x = torch.DoubleTensor(x).to('cuda')\n",
    "y = torch.DoubleTensor(y).to('cuda')\n",
    "label = torch.DoubleTensor(label).to('cuda')\n",
    "x = x.unsqueeze(1)\n",
    "y = y.unsqueeze(1)\n",
    "label = label.unsqueeze(1)"
   ]
  },
  {
   "cell_type": "code",
   "execution_count": 6,
   "metadata": {},
   "outputs": [],
   "source": [
    "def show_graph (thetas) :\n",
    "    thetas_len = len(thetas)\n",
    "    \n",
    "    mesh_x = torch.linspace(-2,2,256,dtype=torch.double).to('cuda')\n",
    "    mesh_y = torch.linspace(-2,2,256,dtype=torch.double).to('cuda')\n",
    "    XX, YY = torch.meshgrid(mesh_x,mesh_y)\n",
    "    if thetas_len == 10 :\n",
    "        ZZ = get_function_3(XX,YY)\n",
    "    elif thetas_len == 16 :\n",
    "        ZZ = get_function_4(XX,YY)\n",
    "\n",
    "    ZZ = torch.reshape(ZZ,(thetas_len,65536))\n",
    "    ZZ = torch.matmul(thetas.T,ZZ)\n",
    "    ZZ = torch.reshape(ZZ,(256,256))\n",
    "    yh = 1 / (1 + torch.exp(-ZZ))\n",
    "    plt.figure(figsize=(6, 6))\n",
    "    plt.scatter(x_label0, y_label0, alpha=0.9, c='b')\n",
    "    plt.scatter(x_label1, y_label1, alpha=0.9, c='r')\n",
    "    plt.contour(XX.cpu(), YY.cpu(), yh.cpu(), levels= [0.5])\n",
    "    plt.show()\n",
    "    \n",
    "def get_running_time(start_time) :\n",
    "    running_time = datetime.datetime.now() - start_time\n",
    "    running_time = running_time.seconds\n",
    "    hours, remainder = divmod(running_time, 3600)\n",
    "    minutes, seconds = divmod(remainder, 60)\n",
    "    return hours, minutes, seconds"
   ]
  },
  {
   "cell_type": "code",
   "execution_count": 7,
   "metadata": {},
   "outputs": [],
   "source": [
    "def get_function_4(x,y) :\n",
    "    constant = torch.ones(x.shape,dtype=torch.float64).to('cuda')\n",
    "    ret = torch.stack((constant,x,y,\\\n",
    "                       x*y,x**2,y**2,\\\n",
    "                       x**2*y, x*y**2,x**3,y**3,\\\n",
    "                       x**3*y, x*y**3,\\\n",
    "                       x**3*y**2,x**2*y**3,\\\n",
    "                       x**3*y**3,x**5*y**5\\\n",
    "                      ))\n",
    "    ret = ret.squeeze(-1)\n",
    "    return ret\n"
   ]
  },
  {
   "cell_type": "code",
   "execution_count": null,
   "metadata": {
    "scrolled": true
   },
   "outputs": [
    {
     "name": "stdout",
     "output_type": "stream",
     "text": [
      "lr : 0.001, epoch 10000,loss 0.8145908039, acc 0.407, time : 00:01:18\n",
      "lr : 0.001, epoch 20000,loss 0.7118585704, acc 0.449, time : 00:02:32\n",
      "lr : 0.001, epoch 30000,loss 0.6652610190, acc 0.593, time : 00:03:44\n",
      "lr : 0.001, epoch 40000,loss 0.6352119823, acc 0.644, time : 00:04:56\n",
      "lr : 0.001, epoch 50000,loss 0.6114446462, acc 0.703, time : 00:06:08\n",
      "lr : 0.001, epoch 60000,loss 0.5910981492, acc 0.737, time : 00:07:20\n",
      "lr : 0.001, epoch 70000,loss 0.5732099229, acc 0.754, time : 00:08:32\n",
      "lr : 0.001, epoch 80000,loss 0.5573166594, acc 0.771, time : 00:09:44\n",
      "lr : 0.001, epoch 90000,loss 0.5431108454, acc 0.797, time : 00:10:56\n",
      "lr : 0.001, epoch 100000,loss 0.5303534749, acc 0.788, time : 00:12:10\n",
      "lr : 0.001, epoch 110000,loss 0.5188482927, acc 0.797, time : 00:13:22\n",
      "lr : 0.001, epoch 120000,loss 0.5084312399, acc 0.805, time : 00:14:34\n",
      "lr : 0.001, epoch 130000,loss 0.4989641615, acc 0.797, time : 00:15:46\n",
      "lr : 0.001, epoch 140000,loss 0.4903301560, acc 0.780, time : 00:16:58\n",
      "lr : 0.001, epoch 150000,loss 0.4824298713, acc 0.797, time : 00:18:09\n",
      "lr : 0.001, epoch 160000,loss 0.4751784999, acc 0.797, time : 00:19:21\n",
      "lr : 0.001, epoch 170000,loss 0.4685033302, acc 0.797, time : 00:20:33\n",
      "lr : 0.001, epoch 180000,loss 0.4623417482, acc 0.797, time : 00:21:45\n",
      "lr : 0.001, epoch 190000,loss 0.4566396041, acc 0.797, time : 00:22:57\n",
      "lr : 0.001, epoch 200000,loss 0.4513498734, acc 0.797, time : 00:24:09\n",
      "lr : 0.001, epoch 210000,loss 0.4464315551, acc 0.797, time : 00:25:21\n",
      "lr : 0.001, epoch 220000,loss 0.4418487625, acc 0.797, time : 00:26:33\n",
      "lr : 0.001, epoch 230000,loss 0.4375699689, acc 0.797, time : 00:27:45\n",
      "lr : 0.001, epoch 240000,loss 0.4335673797, acc 0.805, time : 00:28:56\n",
      "lr : 0.001, epoch 250000,loss 0.4298164079, acc 0.805, time : 00:30:09\n",
      "lr : 0.001, epoch 260000,loss 0.4262952328, acc 0.805, time : 00:31:20\n",
      "lr : 0.001, epoch 270000,loss 0.4229844293, acc 0.805, time : 00:32:32\n",
      "lr : 0.001, epoch 280000,loss 0.4198666531, acc 0.805, time : 00:33:44\n",
      "lr : 0.001, epoch 290000,loss 0.4169263743, acc 0.805, time : 00:34:56\n",
      "lr : 0.001, epoch 300000,loss 0.4141496496, acc 0.805, time : 00:36:08\n",
      "lr : 0.001, epoch 310000,loss 0.4115239276, acc 0.805, time : 00:37:20\n",
      "lr : 0.001, epoch 320000,loss 0.4090378819, acc 0.805, time : 00:38:32\n",
      "lr : 0.001, epoch 330000,loss 0.4066812671, acc 0.805, time : 00:39:44\n",
      "lr : 0.001, epoch 340000,loss 0.4044447945, acc 0.805, time : 00:40:56\n",
      "lr : 0.001, epoch 350000,loss 0.4023200242, acc 0.805, time : 00:42:09\n",
      "lr : 0.001, epoch 360000,loss 0.4002992718, acc 0.805, time : 00:43:21\n",
      "lr : 0.001, epoch 370000,loss 0.3983755260, acc 0.805, time : 00:44:33\n",
      "lr : 0.001, epoch 380000,loss 0.3965423781, acc 0.805, time : 00:45:45\n",
      "lr : 0.001, epoch 390000,loss 0.3947939587, acc 0.805, time : 00:46:57\n",
      "lr : 0.001, epoch 400000,loss 0.3931248829, acc 0.805, time : 00:48:09\n",
      "lr : 0.001, epoch 410000,loss 0.3915302020, acc 0.805, time : 00:49:19\n",
      "lr : 0.001, epoch 420000,loss 0.3900053605, acc 0.805, time : 00:50:26\n",
      "lr : 0.001, epoch 430000,loss 0.3885461583, acc 0.805, time : 00:51:33\n",
      "lr : 0.001, epoch 440000,loss 0.3871487168, acc 0.805, time : 00:52:41\n",
      "lr : 0.001, epoch 450000,loss 0.3858094495, acc 0.805, time : 00:53:48\n",
      "lr : 0.001, epoch 460000,loss 0.3845250348, acc 0.814, time : 00:54:56\n",
      "lr : 0.001, epoch 470000,loss 0.3832923927, acc 0.822, time : 00:56:02\n",
      "lr : 0.001, epoch 480000,loss 0.3821086629, acc 0.822, time : 00:57:09\n",
      "lr : 0.001, epoch 490000,loss 0.3809711863, acc 0.822, time : 00:58:17\n",
      "lr : 0.001, epoch 500000,loss 0.3798774874, acc 0.822, time : 00:59:24\n",
      "lr : 0.001, epoch 510000,loss 0.3788252593, acc 0.831, time : 01:00:32\n",
      "lr : 0.001, epoch 520000,loss 0.3778123493, acc 0.831, time : 01:01:38\n",
      "lr : 0.001, epoch 530000,loss 0.3768367467, acc 0.831, time : 01:02:45\n",
      "lr : 0.001, epoch 540000,loss 0.3758965712, acc 0.831, time : 01:03:52\n",
      "lr : 0.001, epoch 550000,loss 0.3749900627, acc 0.831, time : 01:04:59\n",
      "lr : 0.001, epoch 560000,loss 0.3741155722, acc 0.831, time : 01:06:06\n",
      "lr : 0.001, epoch 570000,loss 0.3732715527, acc 0.831, time : 01:07:13\n",
      "lr : 0.001, epoch 580000,loss 0.3724565522, acc 0.831, time : 01:08:20\n",
      "lr : 0.001, epoch 590000,loss 0.3716692060, acc 0.831, time : 01:09:27\n",
      "lr : 0.001, epoch 600000,loss 0.3709082310, acc 0.831, time : 01:10:34\n",
      "lr : 0.001, epoch 610000,loss 0.3701724190, acc 0.831, time : 01:11:40\n",
      "lr : 0.001, epoch 620000,loss 0.3694606320, acc 0.831, time : 01:12:48\n",
      "lr : 0.001, epoch 630000,loss 0.3687717970, acc 0.831, time : 01:13:55\n",
      "lr : 0.001, epoch 640000,loss 0.3681049014, acc 0.831, time : 01:15:02\n",
      "lr : 0.001, epoch 650000,loss 0.3674589890, acc 0.831, time : 01:16:08\n",
      "lr : 0.001, epoch 660000,loss 0.3668331563, acc 0.831, time : 01:17:16\n",
      "lr : 0.001, epoch 670000,loss 0.3662265487, acc 0.831, time : 01:18:23\n",
      "lr : 0.001, epoch 680000,loss 0.3656383576, acc 0.831, time : 01:19:29\n",
      "lr : 0.001, epoch 690000,loss 0.3650678169, acc 0.839, time : 01:20:36\n",
      "lr : 0.001, epoch 700000,loss 0.3645142010, acc 0.839, time : 01:21:44\n",
      "lr : 0.001, epoch 710000,loss 0.3639768216, acc 0.839, time : 01:22:51\n",
      "lr : 0.001, epoch 720000,loss 0.3634550255, acc 0.839, time : 01:23:58\n",
      "lr : 0.001, epoch 730000,loss 0.3629481927, acc 0.839, time : 01:25:04\n",
      "lr : 0.001, epoch 740000,loss 0.3624557342, acc 0.839, time : 01:26:12\n",
      "lr : 0.001, epoch 750000,loss 0.3619770900, acc 0.839, time : 01:27:18\n",
      "lr : 0.001, epoch 760000,loss 0.3615117274, acc 0.839, time : 01:28:25\n",
      "lr : 0.001, epoch 770000,loss 0.3610591395, acc 0.847, time : 01:29:32\n",
      "lr : 0.001, epoch 780000,loss 0.3606188438, acc 0.847, time : 01:30:40\n",
      "lr : 0.001, epoch 790000,loss 0.3601903804, acc 0.847, time : 01:31:47\n",
      "lr : 0.001, epoch 800000,loss 0.3597733111, acc 0.847, time : 01:32:54\n",
      "lr : 0.001, epoch 810000,loss 0.3593672179, acc 0.847, time : 01:34:01\n",
      "lr : 0.001, epoch 820000,loss 0.3589717019, acc 0.847, time : 01:35:08\n",
      "lr : 0.001, epoch 830000,loss 0.3585863825, acc 0.847, time : 01:36:15\n",
      "lr : 0.001, epoch 840000,loss 0.3582108962, acc 0.847, time : 01:37:22\n",
      "lr : 0.001, epoch 850000,loss 0.3578448954, acc 0.847, time : 01:38:28\n"
     ]
    }
   ],
   "source": [
    "\n",
    "# Setting Step-size. (Learning-rate)\n",
    "lr = 1e-3\n",
    "lr = torch.DoubleTensor([lr]).to('cuda')\n",
    "\n",
    "# Setting converge value\n",
    "loss_conv = 5e-9 # loss converge standard\n",
    "\n",
    "# Lists for logging\n",
    "loss_log = []\n",
    "epoch_log = []\n",
    "acc_log = []\n",
    "conv_count = 0 # Variable To count converge\n",
    "epoch = 0 # Inital epoch value\n",
    "\n",
    "thetas = torch.ones((16,1),dtype=torch.float64).to('cuda') \n",
    "fx = get_function_4(x,y)\n",
    "\n",
    "start_time = datetime.datetime.now()\n",
    "while (True) :\n",
    "    epoch +=1\n",
    "    epoch_log.append(epoch)\n",
    "    z = torch.matmul(thetas.T,fx)\n",
    "    z = z.T\n",
    "    activ_values = 1 / (1+torch.exp(-z))\n",
    "    m = len(activ_values)\n",
    "    \n",
    "    # Get Loss \n",
    "    loss = (1/m) * torch.sum( \\\n",
    "                             -label*torch.log(activ_values) - (1-label)*torch.log(1 - activ_values))\n",
    "    \n",
    "    # Updating Parameters - Gradient Descent\n",
    "    thetas[0] -= lr * (1/m) * torch.sum(activ_values-label)\n",
    "    thetas[1] -= lr * (1/m) * torch.sum( (activ_values-label)* x)\n",
    "    thetas[2] -= lr * (1/m) * torch.sum( (activ_values-label)* y)\n",
    "    thetas[3] -= lr * (1/m) * torch.sum( (activ_values-label)* x*y)\n",
    "    thetas[4] -= lr * (1/m) * torch.sum( (activ_values-label)* x**2)\n",
    "    thetas[5] -= lr * (1/m) * torch.sum( (activ_values-label)* y**2)\n",
    "    thetas[6] -= lr * (1/m) * torch.sum( (activ_values-label)* x**2*y)\n",
    "    thetas[7] -= lr * (1/m) * torch.sum( (activ_values-label)* x*y**2)\n",
    "    thetas[8] -= lr * (1/m) * torch.sum( (activ_values-label)* x**3)\n",
    "    thetas[9] -= lr * (1/m) * torch.sum( (activ_values-label)* y**3)\n",
    "    thetas[10] -= lr * (1/m) * torch.sum( (activ_values-label)* x**3*y)\n",
    "    thetas[11] -= lr * (1/m) * torch.sum( (activ_values-label)* x*y**3)\n",
    "    thetas[12] -= lr * (1/m) * torch.sum( (activ_values-label)* x**3*y**2)\n",
    "    thetas[13] -= lr * (1/m) * torch.sum( (activ_values-label)* x**2*y**3)\n",
    "    thetas[14] -= lr * (1/m) * torch.sum( (activ_values-label)* x**3*y**3)\n",
    "    thetas[15] -= lr * (1/m) * torch.sum( (activ_values-label)* y**5*y**5)\n",
    "    \n",
    "    # Logging\n",
    "    loss_log.append(loss)\n",
    "\n",
    "    ## Does Train Loss Converged?\n",
    "    if len(loss_log) > 2 :\n",
    "        if abs(loss_log[-1] - loss_log[-2]) < loss_conv :\n",
    "            conv_count += 1\n",
    "        else :\n",
    "            conv_count = 0\n",
    "    \n",
    "    # calculate Accuracy        \n",
    "    acc = 0\n",
    "    for i in range(0,len(activ_values)) :\n",
    "        if activ_values[i] >= 0.5 :\n",
    "            if label[i] == 1 :\n",
    "                acc += 1\n",
    "        else :\n",
    "            if label[i] == 0 :\n",
    "                acc += 1\n",
    "    acc = acc / len(activ_values)\n",
    "    acc_log.append(acc)\n",
    "\n",
    "    \n",
    "    # For monitoring\n",
    "    if epoch %10000 == 0 :        \n",
    "        running_time = get_running_time(start_time)\n",
    "        print(\"lr : {}, epoch {},loss {:.10f}, acc {:.3f}, time : {:02d}:{:02d}:{:02d}\".\\\n",
    "              format(lr.item(), epoch,loss_log[-1],acc_log[-1],running_time[0],running_time[1],running_time[2]) )\n",
    "        #show_graph(thetas)\n",
    "    ## Escape if Training loss is converged\n",
    "    if conv_count > 4 :\n",
    "\n",
    "        print(\"Loss is converged\")\n",
    "        print(\"#\"*30)\n",
    "        running_time = get_running_time(start_time)\n",
    "\n",
    "        print(\"lr : {}, epoch {},loss {:.10f}, acc {:.3f}, time : {:02d}:{:02d}:{:02d}\".\\\n",
    "              format(lr.item(), epoch,loss_log[-1],acc_log[-1],running_time[0],running_time[1],running_time[2]) )               \n",
    "        print(\"#\"*30)\n",
    "        \n",
    "        break"
   ]
  },
  {
   "cell_type": "code",
   "execution_count": null,
   "metadata": {},
   "outputs": [],
   "source": [
    "from IPython.display import display, Math, Latex"
   ]
  },
  {
   "cell_type": "markdown",
   "metadata": {},
   "source": [
    "# Result Section"
   ]
  },
  {
   "cell_type": "markdown",
   "metadata": {},
   "source": [
    "# 1. Plot the training data"
   ]
  },
  {
   "cell_type": "code",
   "execution_count": null,
   "metadata": {},
   "outputs": [],
   "source": [
    "plt.figure(figsize=(8, 8))\n",
    "plt.scatter(x_label0, y_label0, alpha=0.9, c='b')\n",
    "plt.scatter(x_label1, y_label1, alpha=0.9, c='r')\n",
    "plt.show()"
   ]
  },
  {
   "cell_type": "markdown",
   "metadata": {},
   "source": [
    "# 2. Write down the high dimensional function $g(x, y); \\theta)$"
   ]
  },
  {
   "cell_type": "markdown",
   "metadata": {},
   "source": [
    "${\\Large\n",
    "  g(x, y ; \\theta) =\n",
    "  1\\times \n",
    "  f_{0}(x, y)\n",
    "  + x f_{1}(x, y)\n",
    "  + y f_{2}(x, y)\n",
    "  \\\\ \\Large\n",
    "  + xy f_{3}(x, y)\n",
    "  + x^{2} f_{4}(x, y)\n",
    "  + y^{2} f_{5}(x, y)\n",
    "  + x^{2}y f_{6}(x, y)\n",
    "  \\\\ \\Large\n",
    "  + xy^{2} f_{7}(x, y)\n",
    "  + x^{3} f_{8}(x, y)\n",
    "  + y^{3} f_{9}(x, y)\n",
    "  + x^{3}y f_{10}(x, y)\n",
    "  \\\\ \\Large\n",
    "  + xy^{3} f_{11}(x, y)\n",
    "  + x^{3}y^{2} f_{12}(x, y)\n",
    "  + x^{2}y^{3} f_{13}(x, y)\n",
    "  + x^{3}y^{3} f_{14}(x, y)\n",
    "  + x^{5}y^{5} f_{15}(x, y)\n",
    "}$\n"
   ]
  },
  {
   "cell_type": "markdown",
   "metadata": {},
   "source": [
    "# 3. Plot the training error"
   ]
  },
  {
   "cell_type": "code",
   "execution_count": null,
   "metadata": {
    "scrolled": true
   },
   "outputs": [],
   "source": [
    "plt.title(\"Training error\")\n",
    "plot, = plt.plot(epoch_log,loss_log, color='blue',linewidth=2,alpha=0.8)\n",
    "plt.legend([plot],[\"Trainging error\"])\n",
    "print(\"Converged Training loss : {:.5f}\".format(loss_log[-1].item()))"
   ]
  },
  {
   "cell_type": "markdown",
   "metadata": {},
   "source": [
    "# 4. Plot the training accuracy"
   ]
  },
  {
   "cell_type": "code",
   "execution_count": null,
   "metadata": {},
   "outputs": [],
   "source": [
    "plt.title(\"Training Accuracy\")\n",
    "plot, = plt.plot(epoch_log,acc_log, color='blue',linewidth=2,alpha=0.8)\n",
    "plt.legend([plot],[\"Trainging error\"])\n",
    "print(\"Converged Training Accuracy : {:.5f}\".format(acc_log[-1]))"
   ]
  },
  {
   "cell_type": "markdown",
   "metadata": {},
   "source": [
    "# 5. Write down the final training accuracy"
   ]
  },
  {
   "cell_type": "markdown",
   "metadata": {},
   "source": [
    "## Final training accuracy : 85.6%"
   ]
  },
  {
   "cell_type": "markdown",
   "metadata": {},
   "source": [
    "# 6. Plot the optimal classifier superimposed on the training data"
   ]
  },
  {
   "cell_type": "code",
   "execution_count": null,
   "metadata": {
    "scrolled": true
   },
   "outputs": [],
   "source": [
    "thetas_4 = thetas\n",
    "show_graph(thetas_4)"
   ]
  }
 ],
 "metadata": {
  "kernelspec": {
   "display_name": "Python 3",
   "language": "python",
   "name": "python3"
  },
  "language_info": {
   "codemirror_mode": {
    "name": "ipython",
    "version": 3
   },
   "file_extension": ".py",
   "mimetype": "text/x-python",
   "name": "python",
   "nbconvert_exporter": "python",
   "pygments_lexer": "ipython3",
   "version": "3.6.9"
  }
 },
 "nbformat": 4,
 "nbformat_minor": 4
}
