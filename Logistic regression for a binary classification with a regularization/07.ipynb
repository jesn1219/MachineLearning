{
 "cells": [
  {
   "cell_type": "code",
   "execution_count": 104,
   "metadata": {},
   "outputs": [],
   "source": [
    "# Writer : JESOON KANG, Dept. of Computer Science & Engineering in Chung-Ang University\n",
    "# Last-Modified Date : May 14,2020"
   ]
  },
  {
   "cell_type": "code",
   "execution_count": 2,
   "metadata": {},
   "outputs": [],
   "source": [
    "import matplotlib.pyplot as plt\n",
    "import math\n",
    "import numpy as np\n",
    "import random\n",
    "import torch\n",
    "from torch.utils.data import Dataset, DataLoader\n",
    "import torchvision.transforms as transforms\n",
    "import torchvision\n",
    "import os\n",
    "import time\n",
    "import datetime\n",
    "from random import *"
   ]
  },
  {
   "cell_type": "code",
   "execution_count": 3,
   "metadata": {},
   "outputs": [
    {
     "name": "stdout",
     "output_type": "stream",
     "text": [
      "Using device: cuda\n",
      "\n",
      "GeForce RTX 2060 SUPER\n",
      "Memory Usage:\n",
      "Allocated: 0.0 GB\n",
      "Cached:    0.0 GB\n"
     ]
    }
   ],
   "source": [
    "### Setting up Device\n",
    "device = torch.device('cuda' if torch.cuda.is_available() else 'cpu')\n",
    "# Below codes activates when want to use cpu\n",
    "#device = torch.device('cpu')\n",
    "print('Using device:', device)\n",
    "print()\n",
    "\n",
    "#Additional Info when using cuda\n",
    "if device.type == 'cuda':\n",
    "    print(torch.cuda.get_device_name(0))\n",
    "    print('Memory Usage:')\n",
    "    print('Allocated:', round(torch.cuda.memory_allocated(0)/1024**3,1), 'GB')\n",
    "    print('Cached:   ', round(torch.cuda.memory_cached(0)/1024**3,1), 'GB')"
   ]
  },
  {
   "cell_type": "code",
   "execution_count": 4,
   "metadata": {
    "scrolled": true
   },
   "outputs": [
    {
     "data": {
      "image/png": "[encoded data removed]",
      "text/plain": [
       "<Figure size 360x360 with 1 Axes>"
      ]
     },
     "metadata": {
      "needs_background": "light"
     },
     "output_type": "display_data"
    }
   ],
   "source": [
    "# Plot the training data\n",
    "import numpy as np\n",
    "import matplotlib.pyplot as plt\n",
    "\n",
    "data    = np.genfromtxt(\"data-nonlinear.txt\", delimiter=',')\n",
    "\n",
    "x       = data[:, 0]\n",
    "y       = data[:, 1]\n",
    "label   = data[:, 2]\n",
    "\n",
    "x_label0    = x[label == 0]\n",
    "y_label0    = y[label == 0]\n",
    "\n",
    "x_label1    = x[label == 1]\n",
    "y_label1    = y[label == 1]\n",
    "\n",
    "plt.figure(figsize=(5, 5))\n",
    "plt.scatter(x_label0, y_label0, alpha=0.9, c='b')\n",
    "plt.scatter(x_label1, y_label1, alpha=0.9, c='r')\n",
    "plt.tight_layout()\n",
    "plt.gca().set_aspect('equal', adjustable='box')\n",
    "plt.show()"
   ]
  },
  {
   "cell_type": "code",
   "execution_count": 5,
   "metadata": {},
   "outputs": [],
   "source": [
    "x = torch.DoubleTensor(x).to('cuda')\n",
    "y = torch.DoubleTensor(y).to('cuda')\n",
    "label = torch.DoubleTensor(label).to('cuda')\n",
    "x = x.unsqueeze(1)\n",
    "y = y.unsqueeze(1)\n",
    "label = label.unsqueeze(1)"
   ]
  },
  {
   "cell_type": "code",
   "execution_count": 62,
   "metadata": {},
   "outputs": [],
   "source": [
    "def show_graph (thetas) :\n",
    "    thetas_len = len(thetas)\n",
    "    mesh_x = torch.linspace(-2,2,256,dtype=torch.double).to('cuda')\n",
    "    mesh_y = torch.linspace(-2,2,256,dtype=torch.double).to('cuda')\n",
    "    XX, YY = torch.meshgrid(mesh_x,mesh_y)\n",
    "    ZZ = get_function(XX,YY)\n",
    "    \n",
    "    ZZ = torch.reshape(ZZ,(thetas_len,65536))\n",
    "    \n",
    "    ZZ = torch.matmul(thetas.T,ZZ)\n",
    "    \n",
    "    ZZ = torch.reshape(ZZ,(256,256))\n",
    "    \n",
    "    yh = 1 / (1 + torch.exp(-ZZ))\n",
    "    plt.figure(figsize=(6, 6))\n",
    "    plt.scatter(x_label0, y_label0, alpha=0.9, c='b')\n",
    "    plt.scatter(x_label1, y_label1, alpha=0.9, c='r')\n",
    "    plt.contour(XX.cpu(), YY.cpu(), yh.cpu(), levels= [0.5], colors='g', alpha=0.6)\n",
    "    plt.show()\n",
    "\n",
    "    \n",
    "def get_running_time(start_time) :\n",
    "    running_time = datetime.datetime.now() - start_time\n",
    "    running_time = running_time.seconds\n",
    "    hours, remainder = divmod(running_time, 3600)\n",
    "    minutes, seconds = divmod(remainder, 60)\n",
    "    return hours, minutes, seconds"
   ]
  },
  {
   "cell_type": "code",
   "execution_count": 91,
   "metadata": {},
   "outputs": [],
   "source": [
    "def show_boundary(thetas_arr) :\n",
    "    \n",
    "    thetas_0 = thetas_arr[0]\n",
    "    thetas_1 = thetas_arr[1]\n",
    "    thetas_2 = thetas_arr[2]\n",
    "    thetas_len = len(thetas_0)\n",
    "    \n",
    "    mesh_x = torch.linspace(-2,2,256,dtype=torch.double).to('cuda')\n",
    "    mesh_y = torch.linspace(-2,2,256,dtype=torch.double).to('cuda')\n",
    "    XX, YY = torch.meshgrid(mesh_x,mesh_y)\n",
    "    ZZ = get_function(XX,YY)\n",
    "    #ZZ = torch.reshape(ZZ,(thetas_len,65536))\n",
    "    \n",
    "\n",
    "    \n",
    "    ZZ_0 = torch.matmul(ZZ,thetas_0)\n",
    "    ZZ_0 = torch.reshape(ZZ_0,(256,256))\n",
    "    yh_0 = 1 / (1 + torch.exp(-ZZ_0))\n",
    "    yh_0 = yh_0.squeeze(-1)\n",
    "    \n",
    "    ZZ_1 = torch.matmul(ZZ,thetas_1)\n",
    "    ZZ_1 = torch.reshape(ZZ_1,(256,256))\n",
    "    yh_1 = 1 / (1 + torch.exp(-ZZ_1))\n",
    "    yh_1 = yh_1.squeeze(-1)\n",
    "    \n",
    "    ZZ_2 = torch.matmul(ZZ,thetas_2)\n",
    "    ZZ_2 = torch.reshape(ZZ_2,(256,256))\n",
    "    yh_2 = 1 / (1 + torch.exp(-ZZ_2))\n",
    "    yh_2 = yh_2.squeeze(-1)\n",
    "    \n",
    "    plt.figure(figsize=(6, 6))\n",
    "    plt.scatter(x_label0, y_label0, alpha=0.9, c='b')\n",
    "    plt.scatter(x_label1, y_label1, alpha=0.9, c='r')\n",
    "    plt.contour(XX.cpu(), YY.cpu(), yh_0.cpu(), levels= [0.5], colors='r', alpha=0.8)\n",
    "    plt.contour(XX.cpu(), YY.cpu(), yh_1.cpu(), levels= [0.5], colors='g', alpha=0.8)\n",
    "    plt.contour(XX.cpu(), YY.cpu(), yh_2.cpu(), levels= [0.5], colors='b', alpha=0.8)\n",
    "    plt.show()\n",
    "    "
   ]
  },
  {
   "cell_type": "code",
   "execution_count": 7,
   "metadata": {},
   "outputs": [
    {
     "data": {
      "text/latex": [
       "- $g(x, y ; \\theta) = \\sum_{i=0}^{9} \\sum_{j=0}^{9} \\theta_{i,j} x^{i} y^{j}$\n"
      ],
      "text/plain": [
       "<IPython.core.display.Latex object>"
      ]
     },
     "metadata": {},
     "output_type": "display_data"
    }
   ],
   "source": [
    "%%latex\n",
    "- $g(x, y ; \\theta) = \\sum_{i=0}^{9} \\sum_{j=0}^{9} \\theta_{i,j} x^{i} y^{j}$"
   ]
  },
  {
   "cell_type": "code",
   "execution_count": 8,
   "metadata": {},
   "outputs": [],
   "source": [
    "def get_function(x,y) :    \n",
    "    ret = []\n",
    "    for i in range(0,10) :\n",
    "        for j in range(0,10) :\n",
    "            ret.append(x**i*y**j)\n",
    "    ret = torch.stack(ret).squeeze(-1)\n",
    "    return ret.T\n"
   ]
  },
  {
   "cell_type": "code",
   "execution_count": 10,
   "metadata": {
    "scrolled": true
   },
   "outputs": [],
   "source": [
    "\n",
    "def training(lr,rcp,loss_conv,is_monitor) :\n",
    "    # Setting Step-size. (Learning-rate)\n",
    "    lr = lr\n",
    "    lr = torch.DoubleTensor([lr]).to('cuda')\n",
    "    # Setting converge value\n",
    "    loss_conv = loss_conv # loss converge standard\n",
    "\n",
    "    # rcp : Regularisation_control_param \n",
    "    rcp = rcp\n",
    "\n",
    "    # Lists for logging\n",
    "    loss_log = []\n",
    "    epoch_log = []\n",
    "    acc_log = []\n",
    "    conv_count = 0 # Variable To count converge\n",
    "    epoch = 0 # Inital epoch value\n",
    "\n",
    "    thetas = torch.ones((100,1),dtype=torch.float64).to('cuda')\n",
    "    fx = get_function(x,y)\n",
    "    print(\"#\"*60)\n",
    "    print(\"Training Setting :\\nlr:{}, lambda : {}, loss_conv : {}, monitoring : {}\".format(lr.item(),rcp,loss_conv,is_monitor))\n",
    "    print(\"#\"*60)\n",
    "    start_time = datetime.datetime.now()\n",
    "    while (True) :\n",
    "        epoch +=1\n",
    "        epoch_log.append(epoch)\n",
    "\n",
    "        z = torch.matmul(fx,thetas)\n",
    "        activ_values = 1/(1+torch.exp(-z))\n",
    "        m = len(activ_values)\n",
    "\n",
    "        loss = (1/m) * torch.sum(-label*torch.log(activ_values) - (1-label)*torch.log(1 - activ_values))\n",
    "        loss += rcp/2*torch.sum(thetas**2)\n",
    "\n",
    "        for i in range(0,len(thetas)) :\n",
    "            thetas[i] -= lr * ((1/m)*torch.sum((activ_values-label)*(fx[:,i].unsqueeze(1))) + rcp*thetas[i])\n",
    "\n",
    "        # Calculate accuracy\n",
    "        output = activ_values>=0.5\n",
    "        acc = output.eq(label).sum() * (1/len(activ_values))\n",
    "\n",
    "        # Logging\n",
    "        loss_log.append(loss)\n",
    "        acc_log.append(acc)\n",
    "\n",
    "        ## Does Train Loss Converged?\n",
    "        if len(loss_log) > 2 :\n",
    "            if abs(loss_log[-1] - loss_log[-2]) < loss_conv :\n",
    "                conv_count += 1\n",
    "            else :\n",
    "                conv_count = 0\n",
    "\n",
    "\n",
    "        # For monitoring\n",
    "        if epoch %1000 == 0 :        \n",
    "            running_time = get_running_time(start_time)\n",
    "            if (is_monitor) :\n",
    "                print(\"epoch {},loss {:.10f}, acc {:.3f}, time : {:02d}:{:02d}:{:02d}\".\\\n",
    "                      format(epoch,loss_log[-1],acc_log[-1],running_time[0],running_time[1],running_time[2]) )\n",
    "           \n",
    "        ## Escape if Training loss is converged\n",
    "        if conv_count > 4 :\n",
    "            # Loss converged\n",
    "            running_time = get_running_time(start_time)\n",
    "            print(\"epoch {},loss {:.10f}, acc {:.3f}, time : {:02d}:{:02d}:{:02d}\".\\\n",
    "                  format(epoch,loss_log[-1],acc_log[-1],running_time[0],running_time[1],running_time[2]) )\n",
    "\n",
    "            print(\"Converged\")\n",
    "            result = {}\n",
    "            result[\"epoch_log\"] = epoch_log\n",
    "            result[\"loss_log\"] = loss_log\n",
    "            result[\"acc_log\"] = acc_log\n",
    "            result[\"thetas\"] = thetas\n",
    "            result[\"lr\"] = lr\n",
    "            result[\"loss_conv\"] = loss_conv\n",
    "            result[\"rcp\"] = rcp\n",
    "            result[\"training_time\"] = running_time\n",
    "            \n",
    "            return result\n"
   ]
  },
  {
   "cell_type": "code",
   "execution_count": 15,
   "metadata": {},
   "outputs": [
    {
     "name": "stdout",
     "output_type": "stream",
     "text": [
      "############################################################\n",
      "Training Setting :\n",
      "lr:0.01, lambda : 0.0001, loss_conv : 1e-08, monitoring : False\n",
      "############################################################\n",
      "epoch 449122,loss 0.3323885864, acc 0.839, time : 01:09:52\n",
      "Converged\n",
      "############################################################\n",
      "Training Setting :\n",
      "lr:0.01, lambda : 0.0008, loss_conv : 1e-08, monitoring : False\n",
      "############################################################\n",
      "epoch 218186,loss 0.3909640463, acc 0.856, time : 00:33:58\n",
      "Converged\n",
      "############################################################\n",
      "Training Setting :\n",
      "lr:0.01, lambda : 0.2, loss_conv : 1e-08, monitoring : False\n",
      "############################################################\n",
      "epoch 3692,loss 0.6649471932, acc 0.746, time : 00:00:35\n",
      "Converged\n"
     ]
    }
   ],
   "source": [
    "final_result = []\n",
    "\n",
    "lambda_underfit = 0.0001\n",
    "lambda_justfit = 0.0008\n",
    "lambda_overfit = 0.2\n",
    "\n",
    "result_1 = training(1e-2,lambda_underfit,1e-8,False)\n",
    "final_result.append(result_1)\n",
    "\n",
    "result_2 = training(1e-2,lambda_justfit,1e-8,False)\n",
    "final_result.append(result_2)\n",
    "\n",
    "result_3 = training(1e-2,lambda_overfit,1e-8,False)\n",
    "final_result.append(result_3)"
   ]
  },
  {
   "cell_type": "code",
   "execution_count": null,
   "metadata": {},
   "outputs": [],
   "source": [
    "from IPython.display import display, Math, Latex"
   ]
  },
  {
   "cell_type": "markdown",
   "metadata": {},
   "source": [
    "# Result Section"
   ]
  },
  {
   "cell_type": "markdown",
   "metadata": {},
   "source": [
    "## 1. Plot the training data"
   ]
  },
  {
   "cell_type": "code",
   "execution_count": 16,
   "metadata": {},
   "outputs": [
    {
     "data": {
      "image/png": "[encoded data removed]",
      "text/plain": [
       "<Figure size 360x360 with 1 Axes>"
      ]
     },
     "metadata": {
      "needs_background": "light"
     },
     "output_type": "display_data"
    }
   ],
   "source": [
    "plt.figure(figsize=(5, 5))\n",
    "plt.scatter(x_label0, y_label0, alpha=0.9, c='b')\n",
    "plt.scatter(x_label1, y_label1, alpha=0.9, c='r')\n",
    "plt.tight_layout()\n",
    "plt.gca().set_aspect('equal', adjustable='box')\n",
    "plt.show()"
   ]
  },
  {
   "cell_type": "markdown",
   "metadata": {},
   "source": [
    "## 2. Plot the training error with varying regularization parameters"
   ]
  },
  {
   "cell_type": "code",
   "execution_count": 103,
   "metadata": {},
   "outputs": [
    {
     "name": "stdout",
     "output_type": "stream",
     "text": [
      "Converged Training loss : \n",
      "λ1 : 0.3323885864\n",
      "λ2 : 0.3909640463\n",
      "λ3 : 0.6649471932\n"
     ]
    },
    {
     "data": {
      "image/png": "[encoded data removed]",
      "text/plain": [
       "<Figure size 432x288 with 1 Axes>"
      ]
     },
     "metadata": {
      "needs_background": "light"
     },
     "output_type": "display_data"
    }
   ],
   "source": [
    "plt.title(\"Training error\")\n",
    "plot_1, = plt.plot(result_1[\"epoch_log\"],result_1[\"loss_log\"], color='red',linewidth=2,alpha=0.8)\n",
    "plot_2, = plt.plot(result_2[\"epoch_log\"],result_2[\"loss_log\"], color='green',linewidth=2,alpha=0.8)\n",
    "plot_3, = plt.plot(result_3[\"epoch_log\"],result_3[\"loss_log\"], color='blue',linewidth=2,alpha=0.8)\n",
    "\n",
    "plt.legend([plot_1,plot_2,plot_3],[\"λ1\",\"λ2\",\"λ3\"])\n",
    "print(\"Converged Training loss : \\nλ1 : {:.10f}\\nλ2 : {:.10f}\\nλ3 : {:.10f}\".format(result_1[\"loss_log\"][-1].item(),result_2[\"loss_log\"][-1].item(),result_3[\"loss_log\"][-1].item()))"
   ]
  },
  {
   "cell_type": "markdown",
   "metadata": {},
   "source": [
    "## 3. Display the values of the chosen regularization parameters"
   ]
  },
  {
   "cell_type": "code",
   "execution_count": 98,
   "metadata": {
    "scrolled": true
   },
   "outputs": [
    {
     "data": {
      "image/png": "[encoded data removed]",
      "text/plain": [
       "<Figure size 432x288 with 1 Axes>"
      ]
     },
     "metadata": {
      "needs_background": "light"
     },
     "output_type": "display_data"
    },
    {
     "name": "stdout",
     "output_type": "stream",
     "text": [
      "λ1 : 0.0001, λ2 : 0.0008, λ3 : 0.2\n"
     ]
    }
   ],
   "source": [
    "ax = plt.subplot2grid((1,1),(0,0))\n",
    "plt.title(\"λ values\")\n",
    "\n",
    "plot1 = ax.bar(\"λ1\",result_1[\"rcp\"], color='red',alpha=0.8)\n",
    "plot2 = ax.bar(\"λ2\",result_2[\"rcp\"], color='green',alpha=0.8)\n",
    "plot3 = ax.bar(\"λ3\",result_3[\"rcp\"], color='blue',alpha=0.8)\n",
    "plt.yscale('log')\n",
    "plt.ylabel(\"Value\")\n",
    "plt.show()\n",
    "print(\"λ1 : {}, λ2 : {}, λ3 : {}\".format(result_1[\"rcp\"],result_2[\"rcp\"],result_3[\"rcp\"]))"
   ]
  },
  {
   "cell_type": "markdown",
   "metadata": {},
   "source": [
    "## 4. Plot the training accuracy with varying regularization parameters"
   ]
  },
  {
   "cell_type": "code",
   "execution_count": 94,
   "metadata": {},
   "outputs": [
    {
     "data": {
      "image/png": "[encoded data removed]",
      "text/plain": [
       "<Figure size 432x288 with 1 Axes>"
      ]
     },
     "metadata": {
      "needs_background": "light"
     },
     "output_type": "display_data"
    }
   ],
   "source": [
    "plt.title(\"Training Accuracy\")\n",
    "plot1, = plt.plot(result_1[\"epoch_log\"],result_1[\"acc_log\"], color='red',linewidth=2,alpha=0.8)\n",
    "plot2, = plt.plot(result_2[\"epoch_log\"],result_2[\"acc_log\"], color='green',linewidth=2,alpha=0.8)\n",
    "plot3, = plt.plot(result_3[\"epoch_log\"],result_3[\"acc_log\"], color='blue',linewidth=2,alpha=0.8)\n",
    "plt.legend([plot1,plot2,plot3],[\"λ1\",\"λ2\",\"λ3\"])\n",
    "plt.show()"
   ]
  },
  {
   "cell_type": "markdown",
   "metadata": {},
   "source": [
    "## 5. Display the final training accuracy with varying regularization parameters"
   ]
  },
  {
   "cell_type": "code",
   "execution_count": 102,
   "metadata": {},
   "outputs": [
    {
     "data": {
      "image/png": "[encoded data removed]",
      "text/plain": [
       "<Figure size 432x288 with 1 Axes>"
      ]
     },
     "metadata": {
      "needs_background": "light"
     },
     "output_type": "display_data"
    },
    {
     "name": "stdout",
     "output_type": "stream",
     "text": [
      "λ1 : 83.89831%, λ2 : 85.59322%, λ3 : 74.57627%\n"
     ]
    }
   ],
   "source": [
    "plt.title(\"Final training accuracy\")\n",
    "plot = plt.bar([\"λ1\"],result_1[\"acc_log\"][-1].cpu()*100, color='red',alpha=0.8)\n",
    "plot = plt.bar([\"λ2\"],result_2[\"acc_log\"][-1].cpu()*100, color='green',alpha=0.8)\n",
    "plot = plt.bar([\"λ3\"],result_3[\"acc_log\"][-1].cpu()*100, color='blue',alpha=0.8)\n",
    "\n",
    "plt.ylabel(\"Accuracy(%)\")\n",
    "plt.show()\n",
    "print(\"λ1 : {:.5f}%, λ2 : {:.5f}%, λ3 : {:.5f}%\".format(result_1[\"acc_log\"][-1].cpu()*100,result_2[\"acc_log\"][-1].cpu()*100,result_3[\"acc_log\"][-1].cpu()*100))"
   ]
  },
  {
   "cell_type": "markdown",
   "metadata": {},
   "source": [
    "# 6. Plot the optimal classifier superimposed on the training data"
   ]
  },
  {
   "cell_type": "code",
   "execution_count": 92,
   "metadata": {
    "scrolled": true
   },
   "outputs": [
    {
     "data": {
      "image/png": "[encoded data removed]",
      "text/plain": [
       "<Figure size 432x432 with 1 Axes>"
      ]
     },
     "metadata": {
      "needs_background": "light"
     },
     "output_type": "display_data"
    }
   ],
   "source": [
    "thetas_arr = [result_1[\"thetas\"],result_2[\"thetas\"],result_3[\"thetas\"]]\n",
    "show_boundary(thetas_arr)"
   ]
  }
 ],
 "metadata": {
  "kernelspec": {
   "display_name": "Python 3",
   "language": "python",
   "name": "python3"
  },
  "language_info": {
   "codemirror_mode": {
    "name": "ipython",
    "version": 3
   },
   "file_extension": ".py",
   "mimetype": "text/x-python",
   "name": "python",
   "nbconvert_exporter": "python",
   "pygments_lexer": "ipython3",
   "version": "3.6.9"
  }
 },
 "nbformat": 4,
 "nbformat_minor": 4
}
